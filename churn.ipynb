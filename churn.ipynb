{
 "cells": [
  {
   "cell_type": "markdown",
   "id": "cc57a749",
   "metadata": {},
   "source": [
    "# 1.載入套件 "
   ]
  },
  {
   "cell_type": "code",
   "execution_count": 1,
   "id": "3c4a2e8c",
   "metadata": {},
   "outputs": [],
   "source": [
    "import matplotlib.pyplot as plt\n",
    "import numpy as np\n",
    "import pandas as pd\n",
    "import seaborn as sns\n",
    "from imblearn.over_sampling import RandomOverSampler\n",
    "from sklearn import metrics\n",
    "from sklearn.ensemble import RandomForestClassifier\n",
    "from sklearn.linear_model import LogisticRegression\n",
    "from sklearn.metrics import accuracy_score, classification_report, confusion_matrix, roc_curve\n",
    "from sklearn.model_selection import train_test_split\n",
    "from sklearn.preprocessing import OrdinalEncoder, StandardScaler\n",
    "from xgboost.sklearn import XGBClassifier"
   ]
  },
  {
   "cell_type": "markdown",
   "id": "73014c3e",
   "metadata": {},
   "source": [
    "# 2.資料輸入 "
   ]
  },
  {
   "cell_type": "markdown",
   "id": "1c32ed23",
   "metadata": {},
   "source": [
    "Data Source: https://www.kaggle.com/datasets/blastchar/telco-customer-churn"
   ]
  },
  {
   "cell_type": "code",
   "execution_count": 2,
   "id": "684eb1bd",
   "metadata": {},
   "outputs": [
    {
     "data": {
      "text/html": [
       "<div>\n",
       "<style scoped>\n",
       "    .dataframe tbody tr th:only-of-type {\n",
       "        vertical-align: middle;\n",
       "    }\n",
       "\n",
       "    .dataframe tbody tr th {\n",
       "        vertical-align: top;\n",
       "    }\n",
       "\n",
       "    .dataframe thead th {\n",
       "        text-align: right;\n",
       "    }\n",
       "</style>\n",
       "<table border=\"1\" class=\"dataframe\">\n",
       "  <thead>\n",
       "    <tr style=\"text-align: right;\">\n",
       "      <th></th>\n",
       "      <th>customerID</th>\n",
       "      <th>gender</th>\n",
       "      <th>SeniorCitizen</th>\n",
       "      <th>Partner</th>\n",
       "      <th>Dependents</th>\n",
       "      <th>tenure</th>\n",
       "      <th>PhoneService</th>\n",
       "      <th>MultipleLines</th>\n",
       "      <th>InternetService</th>\n",
       "      <th>OnlineSecurity</th>\n",
       "      <th>...</th>\n",
       "      <th>DeviceProtection</th>\n",
       "      <th>TechSupport</th>\n",
       "      <th>StreamingTV</th>\n",
       "      <th>StreamingMovies</th>\n",
       "      <th>Contract</th>\n",
       "      <th>PaperlessBilling</th>\n",
       "      <th>PaymentMethod</th>\n",
       "      <th>MonthlyCharges</th>\n",
       "      <th>TotalCharges</th>\n",
       "      <th>Churn</th>\n",
       "    </tr>\n",
       "  </thead>\n",
       "  <tbody>\n",
       "    <tr>\n",
       "      <th>0</th>\n",
       "      <td>7590-VHVEG</td>\n",
       "      <td>Female</td>\n",
       "      <td>0</td>\n",
       "      <td>Yes</td>\n",
       "      <td>No</td>\n",
       "      <td>1</td>\n",
       "      <td>No</td>\n",
       "      <td>No phone service</td>\n",
       "      <td>DSL</td>\n",
       "      <td>No</td>\n",
       "      <td>...</td>\n",
       "      <td>No</td>\n",
       "      <td>No</td>\n",
       "      <td>No</td>\n",
       "      <td>No</td>\n",
       "      <td>Month-to-month</td>\n",
       "      <td>Yes</td>\n",
       "      <td>Electronic check</td>\n",
       "      <td>29.85</td>\n",
       "      <td>29.85</td>\n",
       "      <td>No</td>\n",
       "    </tr>\n",
       "    <tr>\n",
       "      <th>1</th>\n",
       "      <td>5575-GNVDE</td>\n",
       "      <td>Male</td>\n",
       "      <td>0</td>\n",
       "      <td>No</td>\n",
       "      <td>No</td>\n",
       "      <td>34</td>\n",
       "      <td>Yes</td>\n",
       "      <td>No</td>\n",
       "      <td>DSL</td>\n",
       "      <td>Yes</td>\n",
       "      <td>...</td>\n",
       "      <td>Yes</td>\n",
       "      <td>No</td>\n",
       "      <td>No</td>\n",
       "      <td>No</td>\n",
       "      <td>One year</td>\n",
       "      <td>No</td>\n",
       "      <td>Mailed check</td>\n",
       "      <td>56.95</td>\n",
       "      <td>1889.5</td>\n",
       "      <td>No</td>\n",
       "    </tr>\n",
       "    <tr>\n",
       "      <th>2</th>\n",
       "      <td>3668-QPYBK</td>\n",
       "      <td>Male</td>\n",
       "      <td>0</td>\n",
       "      <td>No</td>\n",
       "      <td>No</td>\n",
       "      <td>2</td>\n",
       "      <td>Yes</td>\n",
       "      <td>No</td>\n",
       "      <td>DSL</td>\n",
       "      <td>Yes</td>\n",
       "      <td>...</td>\n",
       "      <td>No</td>\n",
       "      <td>No</td>\n",
       "      <td>No</td>\n",
       "      <td>No</td>\n",
       "      <td>Month-to-month</td>\n",
       "      <td>Yes</td>\n",
       "      <td>Mailed check</td>\n",
       "      <td>53.85</td>\n",
       "      <td>108.15</td>\n",
       "      <td>Yes</td>\n",
       "    </tr>\n",
       "    <tr>\n",
       "      <th>3</th>\n",
       "      <td>7795-CFOCW</td>\n",
       "      <td>Male</td>\n",
       "      <td>0</td>\n",
       "      <td>No</td>\n",
       "      <td>No</td>\n",
       "      <td>45</td>\n",
       "      <td>No</td>\n",
       "      <td>No phone service</td>\n",
       "      <td>DSL</td>\n",
       "      <td>Yes</td>\n",
       "      <td>...</td>\n",
       "      <td>Yes</td>\n",
       "      <td>Yes</td>\n",
       "      <td>No</td>\n",
       "      <td>No</td>\n",
       "      <td>One year</td>\n",
       "      <td>No</td>\n",
       "      <td>Bank transfer (automatic)</td>\n",
       "      <td>42.30</td>\n",
       "      <td>1840.75</td>\n",
       "      <td>No</td>\n",
       "    </tr>\n",
       "    <tr>\n",
       "      <th>4</th>\n",
       "      <td>9237-HQITU</td>\n",
       "      <td>Female</td>\n",
       "      <td>0</td>\n",
       "      <td>No</td>\n",
       "      <td>No</td>\n",
       "      <td>2</td>\n",
       "      <td>Yes</td>\n",
       "      <td>No</td>\n",
       "      <td>Fiber optic</td>\n",
       "      <td>No</td>\n",
       "      <td>...</td>\n",
       "      <td>No</td>\n",
       "      <td>No</td>\n",
       "      <td>No</td>\n",
       "      <td>No</td>\n",
       "      <td>Month-to-month</td>\n",
       "      <td>Yes</td>\n",
       "      <td>Electronic check</td>\n",
       "      <td>70.70</td>\n",
       "      <td>151.65</td>\n",
       "      <td>Yes</td>\n",
       "    </tr>\n",
       "  </tbody>\n",
       "</table>\n",
       "<p>5 rows × 21 columns</p>\n",
       "</div>"
      ],
      "text/plain": [
       "   customerID  gender  SeniorCitizen Partner Dependents  tenure PhoneService  \\\n",
       "0  7590-VHVEG  Female              0     Yes         No       1           No   \n",
       "1  5575-GNVDE    Male              0      No         No      34          Yes   \n",
       "2  3668-QPYBK    Male              0      No         No       2          Yes   \n",
       "3  7795-CFOCW    Male              0      No         No      45           No   \n",
       "4  9237-HQITU  Female              0      No         No       2          Yes   \n",
       "\n",
       "      MultipleLines InternetService OnlineSecurity  ... DeviceProtection  \\\n",
       "0  No phone service             DSL             No  ...               No   \n",
       "1                No             DSL            Yes  ...              Yes   \n",
       "2                No             DSL            Yes  ...               No   \n",
       "3  No phone service             DSL            Yes  ...              Yes   \n",
       "4                No     Fiber optic             No  ...               No   \n",
       "\n",
       "  TechSupport StreamingTV StreamingMovies        Contract PaperlessBilling  \\\n",
       "0          No          No              No  Month-to-month              Yes   \n",
       "1          No          No              No        One year               No   \n",
       "2          No          No              No  Month-to-month              Yes   \n",
       "3         Yes          No              No        One year               No   \n",
       "4          No          No              No  Month-to-month              Yes   \n",
       "\n",
       "               PaymentMethod MonthlyCharges  TotalCharges Churn  \n",
       "0           Electronic check          29.85         29.85    No  \n",
       "1               Mailed check          56.95        1889.5    No  \n",
       "2               Mailed check          53.85        108.15   Yes  \n",
       "3  Bank transfer (automatic)          42.30       1840.75    No  \n",
       "4           Electronic check          70.70        151.65   Yes  \n",
       "\n",
       "[5 rows x 21 columns]"
      ]
     },
     "execution_count": 2,
     "metadata": {},
     "output_type": "execute_result"
    }
   ],
   "source": [
    "df = pd.read_csv('./customer_churn.csv')\n",
    "df.head()"
   ]
  },
  {
   "cell_type": "code",
   "execution_count": 3,
   "id": "49edef43",
   "metadata": {},
   "outputs": [
    {
     "name": "stdout",
     "output_type": "stream",
     "text": [
      "Index(['customerID', 'gender', 'SeniorCitizen', 'Partner', 'Dependents',\n",
      "       'tenure', 'PhoneService', 'MultipleLines', 'InternetService',\n",
      "       'OnlineSecurity', 'OnlineBackup', 'DeviceProtection', 'TechSupport',\n",
      "       'StreamingTV', 'StreamingMovies', 'Contract', 'PaperlessBilling',\n",
      "       'PaymentMethod', 'MonthlyCharges', 'TotalCharges', 'Churn'],\n",
      "      dtype='object')\n",
      "Index(['customerID', 'gender', 'Partner', 'Dependents', 'PhoneService',\n",
      "       'MultipleLines', 'InternetService', 'OnlineSecurity', 'OnlineBackup',\n",
      "       'DeviceProtection', 'TechSupport', 'StreamingTV', 'StreamingMovies',\n",
      "       'Contract', 'PaperlessBilling', 'PaymentMethod', 'TotalCharges',\n",
      "       'Churn'],\n",
      "      dtype='object')\n",
      "customerID        7043  ['7590-VHVEG', '5575-GNVDE', '3668-QPYBK', '7795-CFOCW']\n",
      "gender               2  ['Female', 'Male']\n",
      "SeniorCitizen        2  [0, 1]\n",
      "Partner              2  ['Yes', 'No']\n",
      "Dependents           2  ['No', 'Yes']\n",
      "tenure              73  [1, 34, 2, 45]\n",
      "PhoneService         2  ['No', 'Yes']\n",
      "MultipleLines        3  ['No phone service', 'No', 'Yes']\n",
      "InternetService      3  ['DSL', 'Fiber optic', 'No']\n",
      "OnlineSecurity       3  ['No', 'Yes', 'No internet service']\n",
      "OnlineBackup         3  ['Yes', 'No', 'No internet service']\n",
      "DeviceProtection     3  ['No', 'Yes', 'No internet service']\n",
      "TechSupport          3  ['No', 'Yes', 'No internet service']\n",
      "StreamingTV          3  ['No', 'Yes', 'No internet service']\n",
      "StreamingMovies      3  ['No', 'Yes', 'No internet service']\n",
      "Contract             3  ['Month-to-month', 'One year', 'Two year']\n",
      "PaperlessBilling     2  ['Yes', 'No']\n",
      "PaymentMethod        4  ['Electronic check', 'Mailed check', 'Bank transfer (automatic)', 'Credit card (automatic)']\n",
      "MonthlyCharges    1585  [29.85, 56.95, 53.85, 42.3]\n",
      "TotalCharges      6531  ['29.85', '1889.5', '108.15', '1840.75']\n",
      "Churn                2  ['No', 'Yes']\n",
      "\n",
      "\n",
      "customerID        7043  ['7590-VHVEG', '5575-GNVDE', '3668-QPYBK', '7795-CFOCW']\n",
      "gender               2  ['Female', 'Male']\n",
      "Partner              2  ['Yes', 'No']\n",
      "Dependents           2  ['No', 'Yes']\n",
      "PhoneService         2  ['No', 'Yes']\n",
      "MultipleLines        3  ['No phone service', 'No', 'Yes']\n",
      "InternetService      3  ['DSL', 'Fiber optic', 'No']\n",
      "OnlineSecurity       3  ['No', 'Yes', 'No internet service']\n",
      "OnlineBackup         3  ['Yes', 'No', 'No internet service']\n",
      "DeviceProtection     3  ['No', 'Yes', 'No internet service']\n",
      "TechSupport          3  ['No', 'Yes', 'No internet service']\n",
      "StreamingTV          3  ['No', 'Yes', 'No internet service']\n",
      "StreamingMovies      3  ['No', 'Yes', 'No internet service']\n",
      "Contract             3  ['Month-to-month', 'One year', 'Two year']\n",
      "PaperlessBilling     2  ['Yes', 'No']\n",
      "PaymentMethod        4  ['Electronic check', 'Mailed check', 'Bank transfer (automatic)', 'Credit card (automatic)']\n",
      "TotalCharges      6531  ['29.85', '1889.5', '108.15', '1840.75']\n",
      "Churn                2  ['No', 'Yes']\n"
     ]
    }
   ],
   "source": [
    "cols_obj = df.select_dtypes(include='object').columns\n",
    "\n",
    "cols_all = df.columns\n",
    "print(cols_all)\n",
    "print(cols_obj)\n",
    "\n",
    "print(*[f'{col:<16}  {df[col].nunique():>4}  {list(df[col].unique())[:4]}' for col in cols_all], sep='\\n')\n",
    "print('\\n')\n",
    "print(*[f'{col:<16}  {df[col].nunique():>4}  {list(df[col].unique())[:4]}' for col in cols_obj], sep='\\n')\n"
   ]
  },
  {
   "cell_type": "code",
   "execution_count": 4,
   "id": "72220b6d",
   "metadata": {},
   "outputs": [
    {
     "name": "stdout",
     "output_type": "stream",
     "text": [
      "<class 'pandas.core.frame.DataFrame'>\n",
      "RangeIndex: 7043 entries, 0 to 7042\n",
      "Data columns (total 21 columns):\n",
      " #   Column            Non-Null Count  Dtype  \n",
      "---  ------            --------------  -----  \n",
      " 0   customerID        7043 non-null   object \n",
      " 1   gender            7043 non-null   object \n",
      " 2   SeniorCitizen     7043 non-null   int64  \n",
      " 3   Partner           7043 non-null   object \n",
      " 4   Dependents        7043 non-null   object \n",
      " 5   tenure            7043 non-null   int64  \n",
      " 6   PhoneService      7043 non-null   object \n",
      " 7   MultipleLines     7043 non-null   object \n",
      " 8   InternetService   7043 non-null   object \n",
      " 9   OnlineSecurity    7043 non-null   object \n",
      " 10  OnlineBackup      7043 non-null   object \n",
      " 11  DeviceProtection  7043 non-null   object \n",
      " 12  TechSupport       7043 non-null   object \n",
      " 13  StreamingTV       7043 non-null   object \n",
      " 14  StreamingMovies   7043 non-null   object \n",
      " 15  Contract          7043 non-null   object \n",
      " 16  PaperlessBilling  7043 non-null   object \n",
      " 17  PaymentMethod     7043 non-null   object \n",
      " 18  MonthlyCharges    7043 non-null   float64\n",
      " 19  TotalCharges      7043 non-null   object \n",
      " 20  Churn             7043 non-null   object \n",
      "dtypes: float64(1), int64(2), object(18)\n",
      "memory usage: 1.1+ MB\n"
     ]
    }
   ],
   "source": [
    "df.info()"
   ]
  },
  {
   "cell_type": "markdown",
   "id": "124cfac1",
   "metadata": {},
   "source": [
    "## 2.1移除不必要欄位"
   ]
  },
  {
   "cell_type": "code",
   "execution_count": 5,
   "id": "b2ce5453",
   "metadata": {},
   "outputs": [],
   "source": [
    "df.drop(['customerID'], axis = 1, inplace=True)"
   ]
  },
  {
   "cell_type": "markdown",
   "id": "13cf8ad8",
   "metadata": {},
   "source": [
    "## 2.2 檢查資料型態"
   ]
  },
  {
   "cell_type": "code",
   "execution_count": 6,
   "id": "351b32bb",
   "metadata": {},
   "outputs": [
    {
     "data": {
      "text/plain": [
       "gender               object\n",
       "SeniorCitizen         int64\n",
       "Partner              object\n",
       "Dependents           object\n",
       "tenure                int64\n",
       "PhoneService         object\n",
       "MultipleLines        object\n",
       "InternetService      object\n",
       "OnlineSecurity       object\n",
       "OnlineBackup         object\n",
       "DeviceProtection     object\n",
       "TechSupport          object\n",
       "StreamingTV          object\n",
       "StreamingMovies      object\n",
       "Contract             object\n",
       "PaperlessBilling     object\n",
       "PaymentMethod        object\n",
       "MonthlyCharges      float64\n",
       "TotalCharges         object\n",
       "Churn                object\n",
       "dtype: object"
      ]
     },
     "execution_count": 6,
     "metadata": {},
     "output_type": "execute_result"
    }
   ],
   "source": [
    "df.dtypes"
   ]
  },
  {
   "cell_type": "code",
   "execution_count": 7,
   "id": "5f746d98",
   "metadata": {},
   "outputs": [
    {
     "name": "stdout",
     "output_type": "stream",
     "text": [
      "gender            1\n",
      "Partner           1\n",
      "Dependents        1\n",
      "PhoneService      1\n",
      "MultipleLines     1\n",
      "InternetService   1\n",
      "OnlineSecurity    1\n",
      "OnlineBackup      1\n",
      "DeviceProtection  1\n",
      "TechSupport       1\n",
      "StreamingTV       1\n",
      "StreamingMovies   1\n",
      "Contract          1\n",
      "PaperlessBilling  1\n",
      "PaymentMethod     1\n",
      "TotalCharges      1\n",
      "Churn             1\n"
     ]
    }
   ],
   "source": [
    "#check cols(object) for mix-data types\n",
    "def unique_type_cnt_info(df, col):\n",
    "    cnt = df[col].apply(type).nunique()\n",
    "    return f'{col:<16}  {str(cnt)}'\n",
    "\n",
    "print(*[unique_type_cnt_info(df, col) for col in df.select_dtypes(include='object').columns], sep= '\\n')"
   ]
  },
  {
   "cell_type": "code",
   "execution_count": 8,
   "id": "db417f13",
   "metadata": {},
   "outputs": [
    {
     "name": "stdout",
     "output_type": "stream",
     "text": [
      "gender               2  ['Female', 'Male']\n",
      "Partner              2  ['Yes', 'No']\n",
      "Dependents           2  ['No', 'Yes']\n",
      "PhoneService         2  ['No', 'Yes']\n",
      "MultipleLines        3  ['No phone service', 'No', 'Yes']\n",
      "InternetService      3  ['DSL', 'Fiber optic', 'No']\n",
      "OnlineSecurity       3  ['No', 'Yes', 'No internet service']\n",
      "OnlineBackup         3  ['Yes', 'No', 'No internet service']\n",
      "DeviceProtection     3  ['No', 'Yes', 'No internet service']\n",
      "TechSupport          3  ['No', 'Yes', 'No internet service']\n",
      "StreamingTV          3  ['No', 'Yes', 'No internet service']\n",
      "StreamingMovies      3  ['No', 'Yes', 'No internet service']\n",
      "Contract             3  ['Month-to-month', 'One year', 'Two year']\n",
      "PaperlessBilling     2  ['Yes', 'No']\n",
      "PaymentMethod        4  ['Electronic check', 'Mailed check', 'Bank transfer (automatic)', 'Credit card (automatic)']\n",
      "TotalCharges      6531  ['29.85', '1889.5', '108.15', '1840.75']\n",
      "Churn                2  ['No', 'Yes']\n"
     ]
    }
   ],
   "source": [
    "cols_obj = df.select_dtypes(include='object').columns\n",
    "print(*[f'{col:<16}  {df[col].nunique():>4}  {list(df[col].unique())[:4]}' for col in cols_obj], sep='\\n')"
   ]
  },
  {
   "cell_type": "code",
   "execution_count": 9,
   "id": "23bc20c8",
   "metadata": {},
   "outputs": [],
   "source": [
    "df.loc[df['SeniorCitizen'] == 0, 'SeniorCitizen'] = 'No' \n",
    "df.loc[df['SeniorCitizen'] == 1, 'SeniorCitizen'] = 'Yes' "
   ]
  },
  {
   "cell_type": "code",
   "execution_count": 10,
   "id": "5d4bd84e",
   "metadata": {},
   "outputs": [],
   "source": [
    "df.loc[df['Churn'] == 'Yes', 'Churn'] = 1\n",
    "df.loc[df['Churn'] == 'No', 'Churn'] = 0\n",
    "df['Churn'] = df['Churn'].astype('uint8')"
   ]
  },
  {
   "cell_type": "code",
   "execution_count": 11,
   "id": "3cf9f4f6",
   "metadata": {},
   "outputs": [],
   "source": [
    "cols_obj = df.select_dtypes(include='object').columns\n",
    "df[cols_obj] = df[cols_obj].astype('category')"
   ]
  },
  {
   "cell_type": "code",
   "execution_count": 12,
   "id": "f5b19ae5",
   "metadata": {},
   "outputs": [],
   "source": [
    "# print(*zip(*np.where(df.applymap(lambda x: x == ' '))))\n",
    "# df['TotalCharges'].replace(r'^\\s*$', pd.NA, regex=True, inplace=True)\n",
    "df['TotalCharges'] = pd.to_numeric(df['TotalCharges'], errors='coerce')"
   ]
  },
  {
   "cell_type": "markdown",
   "id": "a231f3f0",
   "metadata": {},
   "source": [
    "# 3.空值處理"
   ]
  },
  {
   "cell_type": "code",
   "execution_count": 13,
   "id": "1e50f448",
   "metadata": {},
   "outputs": [
    {
     "data": {
      "text/plain": [
       "TotalCharges    0.001562\n",
       "dtype: float64"
      ]
     },
     "execution_count": 13,
     "metadata": {},
     "output_type": "execute_result"
    }
   ],
   "source": [
    "miss = df.isna().mean().sort_values(ascending = False)\n",
    "miss[miss > 0]"
   ]
  },
  {
   "cell_type": "code",
   "execution_count": 14,
   "id": "3316a106",
   "metadata": {},
   "outputs": [
    {
     "name": "stdout",
     "output_type": "stream",
     "text": [
      "<class 'pandas.core.frame.DataFrame'>\n",
      "Int64Index: 7032 entries, 0 to 7042\n",
      "Data columns (total 20 columns):\n",
      " #   Column            Non-Null Count  Dtype   \n",
      "---  ------            --------------  -----   \n",
      " 0   gender            7032 non-null   category\n",
      " 1   SeniorCitizen     7032 non-null   category\n",
      " 2   Partner           7032 non-null   category\n",
      " 3   Dependents        7032 non-null   category\n",
      " 4   tenure            7032 non-null   int64   \n",
      " 5   PhoneService      7032 non-null   category\n",
      " 6   MultipleLines     7032 non-null   category\n",
      " 7   InternetService   7032 non-null   category\n",
      " 8   OnlineSecurity    7032 non-null   category\n",
      " 9   OnlineBackup      7032 non-null   category\n",
      " 10  DeviceProtection  7032 non-null   category\n",
      " 11  TechSupport       7032 non-null   category\n",
      " 12  StreamingTV       7032 non-null   category\n",
      " 13  StreamingMovies   7032 non-null   category\n",
      " 14  Contract          7032 non-null   category\n",
      " 15  PaperlessBilling  7032 non-null   category\n",
      " 16  PaymentMethod     7032 non-null   category\n",
      " 17  MonthlyCharges    7032 non-null   float64 \n",
      " 18  TotalCharges      7032 non-null   float64 \n",
      " 19  Churn             7032 non-null   uint8   \n",
      "dtypes: category(16), float64(2), int64(1), uint8(1)\n",
      "memory usage: 338.6 KB\n"
     ]
    }
   ],
   "source": [
    "#df['TotalCharges'] = df['TotalCharges'].fillna(value = 0)\n",
    "#df['TotalCharges'] = df['TotalCharges'].astype('float64')\n",
    "df = df.dropna(subset = ['TotalCharges'])\n",
    "df.info()"
   ]
  },
  {
   "cell_type": "markdown",
   "id": "32b0fa0c",
   "metadata": {},
   "source": [
    "# 4.EDA "
   ]
  },
  {
   "cell_type": "code",
   "execution_count": 15,
   "id": "8c6404ba",
   "metadata": {},
   "outputs": [
    {
     "data": {
      "image/png": "[encoded data removed]",
      "text/plain": [
       "<Figure size 1296x432 with 2 Axes>"
      ]
     },
     "metadata": {
      "needs_background": "light"
     },
     "output_type": "display_data"
    }
   ],
   "source": [
    "fig, ax = plt.subplots(nrows=1, ncols=2, figsize=(18, 6))\n",
    "sns.countplot(x='gender', hue='Churn', data=df, ax=ax[0])\n",
    "ax[0].set_title('Count Plot of gender', fontsize=16)\n",
    "ax[0].set_yscale('log')\n",
    "\n",
    "sns.barplot(x='gender', y='Churn', data=df, ax=ax[1]);\n",
    "ax[1].set_title('Mean Conversion Rate per gender', fontsize=16)\n",
    "plt.tight_layout()\n",
    "plt.show()"
   ]
  },
  {
   "cell_type": "code",
   "execution_count": 16,
   "id": "e656429f",
   "metadata": {},
   "outputs": [
    {
     "data": {
      "image/png": "[encoded data removed]",
      "text/plain": [
       "<Figure size 1296x432 with 2 Axes>"
      ]
     },
     "metadata": {
      "needs_background": "light"
     },
     "output_type": "display_data"
    }
   ],
   "source": [
    "grouped = df[['SeniorCitizen', 'Churn']].groupby('SeniorCitizen').mean().reset_index()\n",
    "fig, ax = plt.subplots(nrows=1, ncols=2, figsize=(18, 6))\n",
    "sns.countplot(x='SeniorCitizen', hue='Churn', data=df, ax=ax[0])\n",
    "ax[0].set_title('Count Plot of SeniorCitizen', fontsize=16)\n",
    "ax[0].set_yscale('log')\n",
    "\n",
    "sns.barplot(x='SeniorCitizen', y='Churn', data=df, ax=ax[1]);\n",
    "ax[1].set_title('Mean Conversion Rate per SeniorCitizen', fontsize=16)\n",
    "plt.tight_layout()\n",
    "plt.show()"
   ]
  },
  {
   "cell_type": "code",
   "execution_count": 17,
   "id": "0ed05bda",
   "metadata": {},
   "outputs": [
    {
     "data": {
      "image/png": "[encoded data removed]",
      "text/plain": [
       "<Figure size 1080x864 with 9 Axes>"
      ]
     },
     "metadata": {
      "needs_background": "light"
     },
     "output_type": "display_data"
    }
   ],
   "source": [
    "services = ['PhoneService','MultipleLines','InternetService','OnlineSecurity',\n",
    "           'OnlineBackup','DeviceProtection','TechSupport','StreamingTV','StreamingMovies']\n",
    "\n",
    "fig, axes = plt.subplots(nrows = 3, ncols = 3, figsize = (15,12))\n",
    "\n",
    "for idx, item in enumerate(services):\n",
    "    if idx < 3:\n",
    "        ax = df[item].value_counts().plot(kind = 'bar', ax=axes[idx, 0], rot = 0)\n",
    "        \n",
    "    elif idx >=3 and idx < 6:\n",
    "        ax = df[item].value_counts().plot(kind = 'bar', ax=axes[idx-3, 1], rot = 0)\n",
    "        \n",
    "    elif idx < 9:\n",
    "        ax = df[item].value_counts().plot(kind = 'bar', ax=axes[idx-6,2], rot = 0)\n",
    "    \n",
    "    ax.set_title(item)"
   ]
  },
  {
   "cell_type": "markdown",
   "id": "b7d9247b",
   "metadata": {},
   "source": [
    "# 4. 離群值處理"
   ]
  },
  {
   "cell_type": "code",
   "execution_count": 18,
   "id": "1319e590",
   "metadata": {},
   "outputs": [],
   "source": [
    "def status(x) : \n",
    "    return pd.Series([x.count(),x.min(),x.idxmin(),x.quantile(.25),x.median(),\n",
    "                      x.quantile(.75),x.mean(),x.max(),x.idxmax(),x.mad(),x.var(),\n",
    "                      x.std(),x.skew(),x.kurt()],index=['總數','最小值','最小值位置','25%分位數',\n",
    "                    '中位數','75%分位數','均值','最大值','最大值位數','平均絕對偏差','變異數','標準差','偏度','峰度'])"
   ]
  },
  {
   "cell_type": "code",
   "execution_count": 19,
   "id": "2eece653",
   "metadata": {},
   "outputs": [
    {
     "data": {
      "text/html": [
       "<div>\n",
       "<style scoped>\n",
       "    .dataframe tbody tr th:only-of-type {\n",
       "        vertical-align: middle;\n",
       "    }\n",
       "\n",
       "    .dataframe tbody tr th {\n",
       "        vertical-align: top;\n",
       "    }\n",
       "\n",
       "    .dataframe thead th {\n",
       "        text-align: right;\n",
       "    }\n",
       "</style>\n",
       "<table border=\"1\" class=\"dataframe\">\n",
       "  <thead>\n",
       "    <tr style=\"text-align: right;\">\n",
       "      <th></th>\n",
       "      <th>tenure</th>\n",
       "      <th>MonthlyCharges</th>\n",
       "      <th>TotalCharges</th>\n",
       "    </tr>\n",
       "  </thead>\n",
       "  <tbody>\n",
       "    <tr>\n",
       "      <th>總數</th>\n",
       "      <td>7032.000000</td>\n",
       "      <td>7032.000000</td>\n",
       "      <td>7.032000e+03</td>\n",
       "    </tr>\n",
       "    <tr>\n",
       "      <th>最小值</th>\n",
       "      <td>1.000000</td>\n",
       "      <td>18.250000</td>\n",
       "      <td>1.880000e+01</td>\n",
       "    </tr>\n",
       "    <tr>\n",
       "      <th>最小值位置</th>\n",
       "      <td>0.000000</td>\n",
       "      <td>3719.000000</td>\n",
       "      <td>1.654000e+03</td>\n",
       "    </tr>\n",
       "    <tr>\n",
       "      <th>25%分位數</th>\n",
       "      <td>9.000000</td>\n",
       "      <td>35.587500</td>\n",
       "      <td>4.014500e+02</td>\n",
       "    </tr>\n",
       "    <tr>\n",
       "      <th>中位數</th>\n",
       "      <td>29.000000</td>\n",
       "      <td>70.350000</td>\n",
       "      <td>1.397475e+03</td>\n",
       "    </tr>\n",
       "    <tr>\n",
       "      <th>75%分位數</th>\n",
       "      <td>55.000000</td>\n",
       "      <td>89.862500</td>\n",
       "      <td>3.794738e+03</td>\n",
       "    </tr>\n",
       "    <tr>\n",
       "      <th>均值</th>\n",
       "      <td>32.421786</td>\n",
       "      <td>64.798208</td>\n",
       "      <td>2.283300e+03</td>\n",
       "    </tr>\n",
       "    <tr>\n",
       "      <th>最大值</th>\n",
       "      <td>72.000000</td>\n",
       "      <td>118.750000</td>\n",
       "      <td>8.684800e+03</td>\n",
       "    </tr>\n",
       "    <tr>\n",
       "      <th>最大值位數</th>\n",
       "      <td>28.000000</td>\n",
       "      <td>4586.000000</td>\n",
       "      <td>4.610000e+03</td>\n",
       "    </tr>\n",
       "    <tr>\n",
       "      <th>平均絕對偏差</th>\n",
       "      <td>21.860240</td>\n",
       "      <td>26.215380</td>\n",
       "      <td>1.899420e+03</td>\n",
       "    </tr>\n",
       "    <tr>\n",
       "      <th>變異數</th>\n",
       "      <td>602.469774</td>\n",
       "      <td>905.165825</td>\n",
       "      <td>5.138252e+06</td>\n",
       "    </tr>\n",
       "    <tr>\n",
       "      <th>標準差</th>\n",
       "      <td>24.545260</td>\n",
       "      <td>30.085974</td>\n",
       "      <td>2.266771e+03</td>\n",
       "    </tr>\n",
       "    <tr>\n",
       "      <th>偏度</th>\n",
       "      <td>0.237731</td>\n",
       "      <td>-0.222103</td>\n",
       "      <td>9.616425e-01</td>\n",
       "    </tr>\n",
       "    <tr>\n",
       "      <th>峰度</th>\n",
       "      <td>-1.387823</td>\n",
       "      <td>-1.256156</td>\n",
       "      <td>-2.317988e-01</td>\n",
       "    </tr>\n",
       "  </tbody>\n",
       "</table>\n",
       "</div>"
      ],
      "text/plain": [
       "             tenure  MonthlyCharges  TotalCharges\n",
       "總數      7032.000000     7032.000000  7.032000e+03\n",
       "最小值        1.000000       18.250000  1.880000e+01\n",
       "最小值位置      0.000000     3719.000000  1.654000e+03\n",
       "25%分位數     9.000000       35.587500  4.014500e+02\n",
       "中位數       29.000000       70.350000  1.397475e+03\n",
       "75%分位數    55.000000       89.862500  3.794738e+03\n",
       "均值        32.421786       64.798208  2.283300e+03\n",
       "最大值       72.000000      118.750000  8.684800e+03\n",
       "最大值位數     28.000000     4586.000000  4.610000e+03\n",
       "平均絕對偏差    21.860240       26.215380  1.899420e+03\n",
       "變異數      602.469774      905.165825  5.138252e+06\n",
       "標準差       24.545260       30.085974  2.266771e+03\n",
       "偏度         0.237731       -0.222103  9.616425e-01\n",
       "峰度        -1.387823       -1.256156 -2.317988e-01"
      ]
     },
     "execution_count": 19,
     "metadata": {},
     "output_type": "execute_result"
    }
   ],
   "source": [
    "cols_num = list(df.select_dtypes(exclude='category').columns)\n",
    "cols_num.remove('Churn')\n",
    "Descriptivestatistics= df[cols_num].apply(status)\n",
    "Descriptivestatistics"
   ]
  },
  {
   "cell_type": "markdown",
   "id": "734a8054",
   "metadata": {},
   "source": [
    "## 4.1預測變數[Y]: 檢查是否不平衡 "
   ]
  },
  {
   "cell_type": "code",
   "execution_count": 20,
   "id": "746ce571",
   "metadata": {},
   "outputs": [
    {
     "data": {
      "text/plain": [
       "0    0.734215\n",
       "1    0.265785\n",
       "Name: Churn, dtype: float64"
      ]
     },
     "execution_count": 20,
     "metadata": {},
     "output_type": "execute_result"
    }
   ],
   "source": [
    "df['Churn'].value_counts() / df.shape[0]"
   ]
  },
  {
   "cell_type": "code",
   "execution_count": 21,
   "id": "9e425954-e7ae-4256-a704-f8caac7b54f1",
   "metadata": {},
   "outputs": [],
   "source": [
    "df0 = df[df['Churn']==0]"
   ]
  },
  {
   "cell_type": "code",
   "execution_count": 22,
   "id": "99c748e2-7b38-48db-99a3-69648fcad648",
   "metadata": {},
   "outputs": [],
   "source": [
    "df1 = df[df['Churn']==1]"
   ]
  },
  {
   "cell_type": "code",
   "execution_count": 23,
   "id": "2ef73212-90fc-4e74-a53a-1850abe22af6",
   "metadata": {},
   "outputs": [],
   "source": [
    "df1 = df1.sample(n=df0.shape[0], replace=True)\n",
    "df = pd.concat([df0, df1])\n",
    "df = df.reset_index(drop=True)"
   ]
  },
  {
   "cell_type": "code",
   "execution_count": 24,
   "id": "2917cb03-359b-45ca-9aa8-c0fb1ca71bbd",
   "metadata": {},
   "outputs": [
    {
     "data": {
      "text/plain": [
       "0    0.5\n",
       "1    0.5\n",
       "Name: Churn, dtype: float64"
      ]
     },
     "execution_count": 24,
     "metadata": {},
     "output_type": "execute_result"
    }
   ],
   "source": [
    "df['Churn'].value_counts() / df.shape[0]"
   ]
  },
  {
   "cell_type": "markdown",
   "id": "248a56c5",
   "metadata": {},
   "source": [
    "## 4.2 自變數(數值)"
   ]
  },
  {
   "cell_type": "code",
   "execution_count": 25,
   "id": "ca912eaf",
   "metadata": {},
   "outputs": [
    {
     "data": {
      "text/plain": [
       "<AxesSubplot:xlabel='TotalCharges', ylabel='Count'>"
      ]
     },
     "execution_count": 25,
     "metadata": {},
     "output_type": "execute_result"
    },
    {
     "data": {
      "image/png": "[encoded data removed]",
      "text/plain": [
       "<Figure size 432x288 with 1 Axes>"
      ]
     },
     "metadata": {
      "needs_background": "light"
     },
     "output_type": "display_data"
    }
   ],
   "source": [
    "sns.histplot(df['TotalCharges'], kde=True)"
   ]
  },
  {
   "cell_type": "code",
   "execution_count": 26,
   "id": "9445cc82",
   "metadata": {},
   "outputs": [
    {
     "data": {
      "text/plain": [
       "<AxesSubplot:xlabel='MonthlyCharges', ylabel='Count'>"
      ]
     },
     "execution_count": 26,
     "metadata": {},
     "output_type": "execute_result"
    },
    {
     "data": {
      "image/png": "[encoded data removed]",
      "text/plain": [
       "<Figure size 432x288 with 1 Axes>"
      ]
     },
     "metadata": {
      "needs_background": "light"
     },
     "output_type": "display_data"
    }
   ],
   "source": [
    "sns.histplot(df['MonthlyCharges'], kde=True)"
   ]
  },
  {
   "cell_type": "code",
   "execution_count": 27,
   "id": "dad0071d",
   "metadata": {},
   "outputs": [
    {
     "data": {
      "text/plain": [
       "<AxesSubplot:xlabel='tenure', ylabel='Count'>"
      ]
     },
     "execution_count": 27,
     "metadata": {},
     "output_type": "execute_result"
    },
    {
     "data": {
      "image/png": "[encoded data removed]",
      "text/plain": [
       "<Figure size 432x288 with 1 Axes>"
      ]
     },
     "metadata": {
      "needs_background": "light"
     },
     "output_type": "display_data"
    }
   ],
   "source": [
    "sns.histplot(df['tenure'], kde=True)"
   ]
  },
  {
   "cell_type": "markdown",
   "id": "0f74a864",
   "metadata": {},
   "source": [
    "# 5.訓練與測試 "
   ]
  },
  {
   "cell_type": "markdown",
   "id": "7a35bb1b",
   "metadata": {},
   "source": [
    "## 5.1前置處理"
   ]
  },
  {
   "cell_type": "code",
   "execution_count": 28,
   "id": "a0467912",
   "metadata": {},
   "outputs": [],
   "source": [
    "# Onehot encoding\n",
    "# cols_cat =  df.select_dtypes(include='category').columns\n",
    "# df = pd.get_dummies(df, columns=cols_cat, drop_first=True)"
   ]
  },
  {
   "cell_type": "code",
   "execution_count": 29,
   "id": "03f4b10d",
   "metadata": {},
   "outputs": [],
   "source": [
    "# standardization\n",
    "cols_num = ['MonthlyCharges', 'TotalCharges', 'tenure']\n",
    "standardScaler= StandardScaler()\n",
    "df[cols_num] = standardScaler.fit_transform(df[cols_num])"
   ]
  },
  {
   "cell_type": "code",
   "execution_count": 30,
   "id": "0e7bed5f",
   "metadata": {},
   "outputs": [],
   "source": [
    "# label encoding\n",
    "enc = OrdinalEncoder(dtype='uint8')\n",
    "cols_cat =  df.select_dtypes(include='category').columns\n",
    "df[cols_cat] = enc.fit_transform(df[cols_cat])"
   ]
  },
  {
   "cell_type": "markdown",
   "id": "72063cba",
   "metadata": {},
   "source": [
    "##  5.2提取預測欄位"
   ]
  },
  {
   "cell_type": "code",
   "execution_count": 31,
   "id": "6a543577",
   "metadata": {},
   "outputs": [],
   "source": [
    "labels = df['Churn']\n",
    "df = df.drop(['Churn'], axis = 1)"
   ]
  },
  {
   "cell_type": "code",
   "execution_count": 32,
   "id": "7d1b4794",
   "metadata": {},
   "outputs": [],
   "source": [
    "X_train, X_test, y_train, y_test = train_test_split(df, labels, test_size=0.2, random_state=101)"
   ]
  },
  {
   "cell_type": "code",
   "execution_count": 33,
   "id": "81715d1e",
   "metadata": {},
   "outputs": [],
   "source": [
    "# Over Sampling\n",
    "# ros = RandomOverSampler(random_state=0)\n",
    "# X_resampled, y_resampled = ros.fit_resample(X_train, y_train)\n",
    "# from collections import Counter\n",
    "# print(sorted(Counter(y_resampled).items()))"
   ]
  },
  {
   "cell_type": "markdown",
   "id": "91926beb",
   "metadata": {},
   "source": [
    "## 5.3 訓練模型"
   ]
  },
  {
   "cell_type": "markdown",
   "id": "828e23d2",
   "metadata": {},
   "source": [
    "### Logistic Regression "
   ]
  },
  {
   "cell_type": "code",
   "execution_count": 34,
   "id": "c13cc2f7",
   "metadata": {},
   "outputs": [
    {
     "name": "stdout",
     "output_type": "stream",
     "text": [
      "Logistic Regression accuracy is : 0.755082284607938\n"
     ]
    }
   ],
   "source": [
    "lr_model = LogisticRegression()\n",
    "lr_model.fit(X_train, y_train)\n",
    "accuracy_lr = lr_model.score(X_test, y_test)\n",
    "print(\"Logistic Regression accuracy is :\", accuracy_lr)"
   ]
  },
  {
   "cell_type": "code",
   "execution_count": 35,
   "id": "ec112011",
   "metadata": {},
   "outputs": [
    {
     "name": "stdout",
     "output_type": "stream",
     "text": [
      "[1 1 0 ... 0 0 1]\n"
     ]
    }
   ],
   "source": [
    "lr_pred = lr_model.predict(X_test)\n",
    "print(lr_pred)"
   ]
  },
  {
   "cell_type": "code",
   "execution_count": 36,
   "id": "199f17e9",
   "metadata": {},
   "outputs": [
    {
     "name": "stdout",
     "output_type": "stream",
     "text": [
      "0.773728813559322\n"
     ]
    }
   ],
   "source": [
    "lr_train_score = lr_model.score(X_train, y_train)\n",
    "print(lr_train_score)"
   ]
  },
  {
   "cell_type": "code",
   "execution_count": 37,
   "id": "4e850211",
   "metadata": {},
   "outputs": [
    {
     "name": "stdout",
     "output_type": "stream",
     "text": [
      "The Accuracy of Logistic Regression Classifier on testing set: 0.755082284607938\n"
     ]
    }
   ],
   "source": [
    "lr_test_score = lr_model.score(X_test, y_test)\n",
    "print('The Accuracy of Logistic Regression Classifier on testing set:', lr_test_score)"
   ]
  },
  {
   "cell_type": "code",
   "execution_count": 38,
   "id": "1d7c9df1",
   "metadata": {},
   "outputs": [
    {
     "name": "stdout",
     "output_type": "stream",
     "text": [
      "              precision    recall  f1-score   support\n",
      "\n",
      "           0       0.78      0.70      0.74      1018\n",
      "           1       0.74      0.81      0.77      1048\n",
      "\n",
      "    accuracy                           0.76      2066\n",
      "   macro avg       0.76      0.75      0.75      2066\n",
      "weighted avg       0.76      0.76      0.75      2066\n",
      "\n",
      "[[716 302]\n",
      " [204 844]]\n"
     ]
    }
   ],
   "source": [
    "print(classification_report(y_test, lr_pred))\n",
    "print(confusion_matrix(y_test, lr_pred))"
   ]
  },
  {
   "cell_type": "code",
   "execution_count": 39,
   "id": "0ede1067",
   "metadata": {},
   "outputs": [
    {
     "data": {
      "image/png": "[encoded data removed]",
      "text/plain": [
       "<Figure size 432x288 with 1 Axes>"
      ]
     },
     "metadata": {
      "needs_background": "light"
     },
     "output_type": "display_data"
    }
   ],
   "source": [
    "y_rfpred_prob = lr_model.predict_proba(X_test)[:,1]\n",
    "fpr_rf, tpr_rf, thresholds = roc_curve(y_test, y_rfpred_prob)\n",
    "plt.plot([0, 1], [0, 1], 'k--' )\n",
    "plt.plot(fpr_rf, tpr_rf, label='Logistic Regression', color = \"r\")\n",
    "plt.xlabel('False Positive Rate')\n",
    "plt.ylabel('True Positive Rate')\n",
    "plt.title('LR ROC Curve', fontsize=16)\n",
    "plt.show();"
   ]
  },
  {
   "cell_type": "markdown",
   "id": "44e6cb01",
   "metadata": {},
   "source": [
    "### XGBoost"
   ]
  },
  {
   "cell_type": "code",
   "execution_count": 40,
   "id": "c473b18a",
   "metadata": {},
   "outputs": [],
   "source": [
    "xgbc_model = XGBClassifier(\n",
    "        n_estimators=110, \n",
    "        use_label_encoder=False,\n",
    "        learning_rate= 0.3,   \n",
    "        max_depth=15,          \n",
    "        subsample=1,        \n",
    "        gamma=0,        \n",
    "        reg_lambda=1,         \n",
    "        max_delta_step=0,\n",
    "        colsample_bytree=1,\n",
    "        min_child_weight=1,\n",
    "        seed=1000)"
   ]
  },
  {
   "cell_type": "code",
   "execution_count": 41,
   "id": "9410f80e",
   "metadata": {},
   "outputs": [
    {
     "name": "stdout",
     "output_type": "stream",
     "text": [
      "[18:32:44] WARNING: ..\\src\\learner.cc:1115: Starting in XGBoost 1.3.0, the default evaluation metric used with the objective 'binary:logistic' was changed from 'error' to 'logloss'. Explicitly set eval_metric if you'd like to restore the old behavior.\n"
     ]
    },
    {
     "data": {
      "text/plain": [
       "XGBClassifier(base_score=0.5, booster='gbtree', colsample_bylevel=1,\n",
       "              colsample_bynode=1, colsample_bytree=1, enable_categorical=False,\n",
       "              gamma=0, gpu_id=-1, importance_type=None,\n",
       "              interaction_constraints='', learning_rate=0.3, max_delta_step=0,\n",
       "              max_depth=15, min_child_weight=1, missing=nan,\n",
       "              monotone_constraints='()', n_estimators=110, n_jobs=8,\n",
       "              num_parallel_tree=1, predictor='auto', random_state=1000,\n",
       "              reg_alpha=0, reg_lambda=1, scale_pos_weight=1, seed=1000,\n",
       "              subsample=1, tree_method='exact', use_label_encoder=False,\n",
       "              validate_parameters=1, verbosity=None)"
      ]
     },
     "execution_count": 41,
     "metadata": {},
     "output_type": "execute_result"
    }
   ],
   "source": [
    "xgbc_model.fit(X_train, y_train)"
   ]
  },
  {
   "cell_type": "code",
   "execution_count": 42,
   "id": "745ff3ff",
   "metadata": {},
   "outputs": [
    {
     "name": "stdout",
     "output_type": "stream",
     "text": [
      "[0 1 0 ... 0 0 0]\n"
     ]
    }
   ],
   "source": [
    "XGB_pred = xgbc_model.predict(X_test)\n",
    "print(XGB_pred)"
   ]
  },
  {
   "cell_type": "code",
   "execution_count": 43,
   "id": "f1773217",
   "metadata": {},
   "outputs": [
    {
     "name": "stdout",
     "output_type": "stream",
     "text": [
      "0.9975786924939467\n"
     ]
    }
   ],
   "source": [
    "XGBtrain_score=xgbc_model.score(X_train, y_train)\n",
    "print(XGBtrain_score)"
   ]
  },
  {
   "cell_type": "code",
   "execution_count": 44,
   "id": "6a033b92",
   "metadata": {},
   "outputs": [
    {
     "name": "stdout",
     "output_type": "stream",
     "text": [
      "The Accuracy of XGBOOST Classifier on testing set: 0.8954501452081317\n"
     ]
    }
   ],
   "source": [
    "XGBtest_score=xgbc_model.score(X_test, y_test)\n",
    "print('The Accuracy of XGBOOST Classifier on testing set:', XGBtest_score)"
   ]
  },
  {
   "cell_type": "code",
   "execution_count": 45,
   "id": "fed05b48",
   "metadata": {},
   "outputs": [
    {
     "name": "stdout",
     "output_type": "stream",
     "text": [
      "              precision    recall  f1-score   support\n",
      "\n",
      "           0       0.95      0.83      0.89      1018\n",
      "           1       0.85      0.96      0.90      1048\n",
      "\n",
      "    accuracy                           0.90      2066\n",
      "   macro avg       0.90      0.89      0.89      2066\n",
      "weighted avg       0.90      0.90      0.89      2066\n",
      "\n",
      "[[ 848  170]\n",
      " [  46 1002]]\n"
     ]
    }
   ],
   "source": [
    "print(classification_report(y_test, XGB_pred))\n",
    "print(confusion_matrix(y_test, XGB_pred))"
   ]
  },
  {
   "cell_type": "code",
   "execution_count": 46,
   "id": "a33ddedc",
   "metadata": {},
   "outputs": [
    {
     "data": {
      "image/png": "[encoded data removed]",
      "text/plain": [
       "<Figure size 432x288 with 1 Axes>"
      ]
     },
     "metadata": {
      "needs_background": "light"
     },
     "output_type": "display_data"
    }
   ],
   "source": [
    "y_rfpred_prob = xgbc_model.predict_proba(X_test.values)[:,1]\n",
    "fpr_rf, tpr_rf, thresholds = roc_curve(y_test, y_rfpred_prob)\n",
    "plt.plot([0, 1], [0, 1], 'k--' )\n",
    "plt.plot(fpr_rf, tpr_rf, label='XGBoost',color = \"r\")\n",
    "plt.xlabel('False Positive Rate')\n",
    "plt.ylabel('True Positive Rate')\n",
    "plt.title('XGBoost ROC Curve',fontsize=16)\n",
    "plt.show();"
   ]
  },
  {
   "cell_type": "markdown",
   "id": "a0e785f8",
   "metadata": {},
   "source": [
    "### RandomForest"
   ]
  },
  {
   "cell_type": "code",
   "execution_count": 47,
   "id": "e75ed94e",
   "metadata": {},
   "outputs": [],
   "source": [
    "model_rf = RandomForestClassifier(n_estimators= 1000 , \n",
    "                                  oob_score = True, \n",
    "                                  n_jobs = -1,\n",
    "                                  random_state =50,\n",
    "                                  max_features = \"auto\",\n",
    "                                  max_leaf_nodes = 50,\n",
    "                                  max_depth=30\n",
    "                                 )\n",
    "\n",
    "\n"
   ]
  },
  {
   "cell_type": "code",
   "execution_count": 48,
   "id": "c6e6a56c",
   "metadata": {},
   "outputs": [
    {
     "data": {
      "text/plain": [
       "RandomForestClassifier(max_depth=30, max_leaf_nodes=50, n_estimators=1000,\n",
       "                       n_jobs=-1, oob_score=True, random_state=50)"
      ]
     },
     "execution_count": 48,
     "metadata": {},
     "output_type": "execute_result"
    }
   ],
   "source": [
    "model_rf.fit(X_train.values, y_train)"
   ]
  },
  {
   "cell_type": "code",
   "execution_count": 49,
   "id": "f97f71a9",
   "metadata": {},
   "outputs": [
    {
     "name": "stdout",
     "output_type": "stream",
     "text": [
      "0.7691190706679574\n"
     ]
    }
   ],
   "source": [
    "# Make predictions\n",
    "rf_predic = model_rf.predict(X_test.values)\n",
    "print (metrics.accuracy_score(y_test, rf_predic))"
   ]
  },
  {
   "cell_type": "code",
   "execution_count": 50,
   "id": "720953b0",
   "metadata": {},
   "outputs": [
    {
     "name": "stdout",
     "output_type": "stream",
     "text": [
      "The Accuracy of RandomForest Classifier on testing set: 0.7691190706679574\n"
     ]
    }
   ],
   "source": [
    "rftest_score = model_rf.score(X_test.values,y_test)\n",
    "print('The Accuracy of RandomForest Classifier on testing set:', rftest_score)"
   ]
  },
  {
   "cell_type": "code",
   "execution_count": 51,
   "id": "c4555053",
   "metadata": {},
   "outputs": [
    {
     "name": "stdout",
     "output_type": "stream",
     "text": [
      "              precision    recall  f1-score   support\n",
      "\n",
      "           0       0.79      0.73      0.76      1018\n",
      "           1       0.76      0.81      0.78      1048\n",
      "\n",
      "    accuracy                           0.77      2066\n",
      "   macro avg       0.77      0.77      0.77      2066\n",
      "weighted avg       0.77      0.77      0.77      2066\n",
      "\n",
      "[[744 274]\n",
      " [203 845]]\n"
     ]
    }
   ],
   "source": [
    "print(classification_report(y_test, rf_predic))\n",
    "print(confusion_matrix(y_test, rf_predic))"
   ]
  },
  {
   "cell_type": "code",
   "execution_count": 52,
   "id": "c262ecdc",
   "metadata": {},
   "outputs": [
    {
     "data": {
      "image/png": "[encoded data removed]",
      "text/plain": [
       "<Figure size 720x864 with 1 Axes>"
      ]
     },
     "metadata": {
      "needs_background": "light"
     },
     "output_type": "display_data"
    }
   ],
   "source": [
    "imp = pd.Series(data=model_rf.feature_importances_, index=X_train.columns).sort_values(ascending=False)\n",
    "plt.figure(figsize=(10,12))\n",
    "plt.title(\"Feature importance\")\n",
    "ax = sns.barplot(y=imp.index, x=imp.values, palette=\"Blues_d\", orient='h')"
   ]
  },
  {
   "cell_type": "code",
   "execution_count": 53,
   "id": "23ea7112",
   "metadata": {},
   "outputs": [
    {
     "data": {
      "image/png": "[encoded data removed]",
      "text/plain": [
       "<Figure size 432x288 with 1 Axes>"
      ]
     },
     "metadata": {
      "needs_background": "light"
     },
     "output_type": "display_data"
    }
   ],
   "source": [
    "y_rfpred_prob = model_rf.predict_proba(X_test.values)[:,1]\n",
    "fpr_rf, tpr_rf, thresholds = roc_curve(y_test, y_rfpred_prob)\n",
    "plt.plot([0, 1], [0, 1], 'k--' )\n",
    "plt.plot(fpr_rf, tpr_rf, label='Random Forest',color = \"r\")\n",
    "plt.xlabel('False Positive Rate')\n",
    "plt.ylabel('True Positive Rate')\n",
    "plt.title('Random Forest ROC Curve',fontsize=16)\n",
    "plt.show();"
   ]
  },
  {
   "cell_type": "code",
   "execution_count": null,
   "id": "cbd5462a-baaa-4ad8-839b-3a5b3e65cbb2",
   "metadata": {},
   "outputs": [],
   "source": []
  },
  {
   "cell_type": "code",
   "execution_count": null,
   "id": "f1c0f6e9-e144-4ab4-97a0-6408fa4509ba",
   "metadata": {},
   "outputs": [],
   "source": []
  },
  {
   "cell_type": "markdown",
   "id": "4c064138-9b29-4053-80b3-93e134985175",
   "metadata": {
    "id": "vi9JghP-UZ-5"
   },
   "source": [
    "# ExtraTrees"
   ]
  },
  {
   "cell_type": "code",
   "execution_count": 54,
   "id": "a8e07d69-55c6-4834-a94c-ed0fe354b5ff",
   "metadata": {
    "id": "IWlQ-5Gg3sb1"
   },
   "outputs": [],
   "source": [
    "from sklearn.ensemble import ExtraTreesClassifier\n",
    "ETreec = ExtraTreesClassifier(max_depth=15,n_estimators=100,criterion='gini')"
   ]
  },
  {
   "cell_type": "code",
   "execution_count": 55,
   "id": "2d05571d-f5d3-43c2-a1c2-d41179f365d8",
   "metadata": {
    "colab": {
     "base_uri": "https://localhost:8080/"
    },
    "id": "sDA63tHRUndW",
    "outputId": "57b615e1-5821-427a-cacd-dcc77288da2e"
   },
   "outputs": [
    {
     "name": "stdout",
     "output_type": "stream",
     "text": [
      "[0 0 0 ... 0 0 0]\n"
     ]
    }
   ],
   "source": [
    "ETreec.fit(X_train, y_train)\n",
    "ETree_pred=ETreec.predict(X_test)\n",
    "print(ETree_pred)"
   ]
  },
  {
   "cell_type": "code",
   "execution_count": null,
   "id": "fbaae12c-d4f6-4087-95ab-0b0082ae830a",
   "metadata": {},
   "outputs": [],
   "source": []
  },
  {
   "cell_type": "code",
   "execution_count": 56,
   "id": "76330933-176b-4663-97ee-751199bdde35",
   "metadata": {
    "colab": {
     "base_uri": "https://localhost:8080/"
    },
    "id": "RMNwnXp8UnhE",
    "outputId": "53fcd197-6e34-4384-cc89-b74097d61239"
   },
   "outputs": [
    {
     "name": "stdout",
     "output_type": "stream",
     "text": [
      "0.9720338983050848\n"
     ]
    }
   ],
   "source": [
    "ETreetrain_score=ETreec.score(X_train, y_train)\n",
    "print(ETreetrain_score)"
   ]
  },
  {
   "cell_type": "code",
   "execution_count": 57,
   "id": "f6004efc-2d67-4907-a1cd-5fa7be8c69b6",
   "metadata": {
    "colab": {
     "base_uri": "https://localhost:8080/"
    },
    "id": "FXule039UnlC",
    "outputId": "5fa955aa-7adf-4ae5-d15f-f6e3a210eb83"
   },
   "outputs": [
    {
     "name": "stdout",
     "output_type": "stream",
     "text": [
      "The Accuracy of ExtraTrees Classifier on testing set: 0.8925459825750242\n"
     ]
    }
   ],
   "source": [
    "ETreetest_score=ETreec.score(X_test,y_test)\n",
    "print('The Accuracy of ExtraTrees Classifier on testing set:', ETreetest_score)\n"
   ]
  },
  {
   "cell_type": "code",
   "execution_count": 58,
   "id": "814aeb8e-8826-4938-915c-cf29df8c8b0c",
   "metadata": {
    "colab": {
     "base_uri": "https://localhost:8080/"
    },
    "id": "yge1ZrUFUnsu",
    "outputId": "16378bd5-69c8-4d7f-a86c-454fa538fdd2"
   },
   "outputs": [
    {
     "name": "stdout",
     "output_type": "stream",
     "text": [
      "              precision    recall  f1-score   support\n",
      "\n",
      "           0       0.94      0.84      0.88      1018\n",
      "           1       0.86      0.94      0.90      1048\n",
      "\n",
      "    accuracy                           0.89      2066\n",
      "   macro avg       0.90      0.89      0.89      2066\n",
      "weighted avg       0.90      0.89      0.89      2066\n",
      "\n",
      "[[854 164]\n",
      " [ 58 990]]\n"
     ]
    }
   ],
   "source": [
    "print(classification_report(y_test,ETree_pred))\n",
    "print(confusion_matrix(y_test,ETree_pred))"
   ]
  },
  {
   "cell_type": "code",
   "execution_count": null,
   "id": "146f5653-872e-4ac7-82cf-b414041c1324",
   "metadata": {},
   "outputs": [],
   "source": []
  }
 ],
 "metadata": {
  "kernelspec": {
   "display_name": "Python 3 (ipykernel)",
   "language": "python",
   "name": "python3"
  },
  "language_info": {
   "codemirror_mode": {
    "name": "ipython",
    "version": 3
   },
   "file_extension": ".py",
   "mimetype": "text/x-python",
   "name": "python",
   "nbconvert_exporter": "python",
   "pygments_lexer": "ipython3",
   "version": "3.7.1"
  }
 },
 "nbformat": 4,
 "nbformat_minor": 5
}
